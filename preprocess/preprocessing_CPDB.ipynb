{
 "cells": [
  {
   "cell_type": "markdown",
   "metadata": {},
   "source": [
    "# Preprocessing of the CPDB network\n",
    "In this notebook, I want to collect the protein-protein-interaction (PPI) network from ConsensusPathDB and preprocess it.\n",
    "The preprocessing contains the following steps:\n",
    "* Filter out \"complex\" interactions (more than two partners)\n",
    "* Filter out interactions with score < 0.5\n",
    "* Map the strange uniprot gene names to ENSEMBL IDs (either protein IDs or gene IDs)\n",
    "* Convert the resulting edgelist to an adjacency matrix\n",
    "* Export the edgelist to .sif (can be read by cytoscape directly)\n",
    "\n",
    "I downloaded the CPDB network from [here](http://cpdb.molgen.mpg.de/download/ConsensusPathDB_human_PPI.gz) on 2021.06.05."
   ]
  },
  {
   "cell_type": "code",
   "execution_count": 1,
   "metadata": {},
   "outputs": [],
   "source": [
    "import pandas as pd\n",
    "import numpy as np\n",
    "import matplotlib.pyplot as plt\n",
    "import mygene\n",
    "import h5py\n",
    "import networkx as nx\n",
    "import seaborn as sns\n",
    "%matplotlib inline"
   ]
  },
  {
   "cell_type": "code",
   "execution_count": 2,
   "metadata": {},
   "outputs": [],
   "source": [
    "def save_sif(edgelist, outfile):\n",
    "    print (\"Saving edgelist to {}\".format(outfile))\n",
    "    with open(outfile, 'w') as out:\n",
    "        for idx, row in edgelist.iterrows():\n",
    "            out.write('{} (interacts) {}\\n'.format(row.partner1, row.partner2))\n",
    "    print (\".sif successfully saved!\")\n",
    "\n",
    " # get Ensembl IDs for gene names\n",
    "def get_gene_symbols(list_of_ensembl_ids):\n",
    "    mg = mygene.MyGeneInfo()\n",
    "    res = mg.querymany(list_of_ensembl_ids,\n",
    "                       scopes='ensembl.gene',\n",
    "                       fields='symbol',\n",
    "                       species='human', returnall=True\n",
    "                      )\n",
    "\n",
    "    def get_symbol_and_ensembl(d):\n",
    "        if 'symbol' in d:\n",
    "            return [d['query'], d['symbol']]\n",
    "        else:\n",
    "            return [d['query'], None]\n",
    "\n",
    "    node_names = [get_symbol_and_ensembl(d) for d in res['out']]\n",
    "    # now, retrieve the names and IDs from a dictionary and put in DF\n",
    "    node_names = pd.DataFrame(node_names, columns=['Ensembl_ID', 'Symbol']).set_index('Ensembl_ID')\n",
    "    node_names.dropna(axis=0, inplace=True)#discard rows with null values\n",
    "    return node_names\n",
    "\n"
   ]
  },
  {
   "cell_type": "code",
   "execution_count": 3,
   "metadata": {},
   "outputs": [
    {
     "data": {
      "text/html": [
       "<div>\n",
       "<style scoped>\n",
       "    .dataframe tbody tr th:only-of-type {\n",
       "        vertical-align: middle;\n",
       "    }\n",
       "\n",
       "    .dataframe tbody tr th {\n",
       "        vertical-align: top;\n",
       "    }\n",
       "\n",
       "    .dataframe thead th {\n",
       "        text-align: right;\n",
       "    }\n",
       "</style>\n",
       "<table border=\"1\" class=\"dataframe\">\n",
       "  <thead>\n",
       "    <tr style=\"text-align: right;\">\n",
       "      <th></th>\n",
       "      <th>#  source_databases</th>\n",
       "      <th>interaction_publications</th>\n",
       "      <th>interaction_participants__uniprot_entry</th>\n",
       "      <th>interaction_participants__uniprot_id</th>\n",
       "      <th>interaction_participants__genename</th>\n",
       "      <th>interaction_participants__hgnc_id</th>\n",
       "      <th>interaction_participants__entrez_gene</th>\n",
       "      <th>interaction_participants__ensembl_gene</th>\n",
       "      <th>interaction_confidence</th>\n",
       "    </tr>\n",
       "  </thead>\n",
       "  <tbody>\n",
       "    <tr>\n",
       "      <th>8</th>\n",
       "      <td>PhosphoPOINT,Reactome,HPRD,Spike,Biogrid</td>\n",
       "      <td>1660465,16713569,12547834</td>\n",
       "      <td>ANPRA_HUMAN,ANF_HUMAN</td>\n",
       "      <td>P16066,P01160</td>\n",
       "      <td>NPR1,NPPA</td>\n",
       "      <td>HGNC:7943,HGNC:7939</td>\n",
       "      <td>4881,4878</td>\n",
       "      <td>ENSG00000169418,ENSG00000175206</td>\n",
       "      <td>0.192576</td>\n",
       "    </tr>\n",
       "    <tr>\n",
       "      <th>9</th>\n",
       "      <td>HPRD,Reactome,PhosphoPOINT,Biogrid</td>\n",
       "      <td>1660465,12709393,1672777,1309330</td>\n",
       "      <td>ANFC_HUMAN,ANPRB_HUMAN</td>\n",
       "      <td>P23582,P20594</td>\n",
       "      <td>NPPC,NPR2</td>\n",
       "      <td>HGNC:7941,HGNC:7944</td>\n",
       "      <td>4880,4882</td>\n",
       "      <td>ENSG00000163273,ENSG00000159899</td>\n",
       "      <td>0.230184</td>\n",
       "    </tr>\n",
       "    <tr>\n",
       "      <th>24</th>\n",
       "      <td>DIP,Reactome,IntAct</td>\n",
       "      <td>22210847,17486119,21408196,16906149,19897728</td>\n",
       "      <td>STIM1_HUMAN,TRPC1_HUMAN</td>\n",
       "      <td>Q13586,P48995</td>\n",
       "      <td>STIM1,TRPC1</td>\n",
       "      <td>HGNC:11386,HGNC:12333</td>\n",
       "      <td>6786,7220</td>\n",
       "      <td>ENSG00000167323,ENSG00000144935</td>\n",
       "      <td>0.597177</td>\n",
       "    </tr>\n",
       "    <tr>\n",
       "      <th>25</th>\n",
       "      <td>Reactome,HPRD</td>\n",
       "      <td>11591728</td>\n",
       "      <td>AT2B4_HUMAN,NOS1_HUMAN</td>\n",
       "      <td>P23634,P29475</td>\n",
       "      <td>ATP2B4,NOS1</td>\n",
       "      <td>HGNC:817,HGNC:7872</td>\n",
       "      <td>493,4842</td>\n",
       "      <td>ENSG00000058668,ENSG00000089250</td>\n",
       "      <td>0.520836</td>\n",
       "    </tr>\n",
       "    <tr>\n",
       "      <th>26</th>\n",
       "      <td>BIND,HPRD,CORUM,MIPS-MPPI,Reactome,IntAct</td>\n",
       "      <td>10093054,9831708,23587463</td>\n",
       "      <td>ABCC9_HUMAN,KCJ11_HUMAN</td>\n",
       "      <td>O60706,Q14654</td>\n",
       "      <td>ABCC9,KCNJ11</td>\n",
       "      <td>HGNC:60,HGNC:6257</td>\n",
       "      <td>10060,3767</td>\n",
       "      <td>ENSG00000069431,ENSG00000187486</td>\n",
       "      <td>0.990732</td>\n",
       "    </tr>\n",
       "  </tbody>\n",
       "</table>\n",
       "</div>"
      ],
      "text/plain": [
       "                          #  source_databases  \\\n",
       "8    PhosphoPOINT,Reactome,HPRD,Spike,Biogrid   \n",
       "9          HPRD,Reactome,PhosphoPOINT,Biogrid   \n",
       "24                        DIP,Reactome,IntAct   \n",
       "25                              Reactome,HPRD   \n",
       "26  BIND,HPRD,CORUM,MIPS-MPPI,Reactome,IntAct   \n",
       "\n",
       "                        interaction_publications  \\\n",
       "8                      1660465,16713569,12547834   \n",
       "9               1660465,12709393,1672777,1309330   \n",
       "24  22210847,17486119,21408196,16906149,19897728   \n",
       "25                                      11591728   \n",
       "26                     10093054,9831708,23587463   \n",
       "\n",
       "   interaction_participants__uniprot_entry  \\\n",
       "8                    ANPRA_HUMAN,ANF_HUMAN   \n",
       "9                   ANFC_HUMAN,ANPRB_HUMAN   \n",
       "24                 STIM1_HUMAN,TRPC1_HUMAN   \n",
       "25                  AT2B4_HUMAN,NOS1_HUMAN   \n",
       "26                 ABCC9_HUMAN,KCJ11_HUMAN   \n",
       "\n",
       "   interaction_participants__uniprot_id interaction_participants__genename  \\\n",
       "8                         P16066,P01160                          NPR1,NPPA   \n",
       "9                         P23582,P20594                          NPPC,NPR2   \n",
       "24                        Q13586,P48995                        STIM1,TRPC1   \n",
       "25                        P23634,P29475                        ATP2B4,NOS1   \n",
       "26                        O60706,Q14654                       ABCC9,KCNJ11   \n",
       "\n",
       "   interaction_participants__hgnc_id interaction_participants__entrez_gene  \\\n",
       "8                HGNC:7943,HGNC:7939                             4881,4878   \n",
       "9                HGNC:7941,HGNC:7944                             4880,4882   \n",
       "24             HGNC:11386,HGNC:12333                             6786,7220   \n",
       "25                HGNC:817,HGNC:7872                              493,4842   \n",
       "26                 HGNC:60,HGNC:6257                            10060,3767   \n",
       "\n",
       "   interaction_participants__ensembl_gene  interaction_confidence  \n",
       "8         ENSG00000169418,ENSG00000175206                0.192576  \n",
       "9         ENSG00000163273,ENSG00000159899                0.230184  \n",
       "24        ENSG00000167323,ENSG00000144935                0.597177  \n",
       "25        ENSG00000058668,ENSG00000089250                0.520836  \n",
       "26        ENSG00000069431,ENSG00000187486                0.990732  "
      ]
     },
     "execution_count": 3,
     "metadata": {},
     "output_type": "execute_result"
    }
   ],
   "source": [
    "interactions = pd.read_csv('../data/ppi/ConsensusPathDB_human_PPI.gz',\n",
    "                           compression='gzip',\n",
    "                           header=1,\n",
    "                           sep='\\t',\n",
    "                           encoding='utf8'\n",
    "                          )\n",
    "interactions_nona = interactions.dropna()\n",
    "interactions_nona.head()"
   ]
  },
  {
   "cell_type": "code",
   "execution_count": 4,
   "metadata": {},
   "outputs": [
    {
     "data": {
      "text/plain": [
       "(521150, 9)"
      ]
     },
     "execution_count": 4,
     "metadata": {},
     "output_type": "execute_result"
    },
    {
     "data": {
      "image/png": "[encoded data removed]",
      "text/plain": [
       "<Figure size 1008x576 with 1 Axes>"
      ]
     },
     "metadata": {
      "needs_background": "light"
     },
     "output_type": "display_data"
    }
   ],
   "source": [
    "bins = np.linspace(0, 1, 200)\n",
    "fig = plt.figure(figsize=(14, 8))\n",
    "ax = plt.hist(interactions_nona.interaction_confidence, bins)\n",
    "plt.xlabel('Interaction Score')\n",
    "plt.ylabel('Frequency')\n",
    "plt.title('Interaction Score Distribution')\n",
    "interactions_nona.shape"
   ]
  },
  {
   "cell_type": "code",
   "execution_count": 6,
   "metadata": {},
   "outputs": [
    {
     "name": "stdout",
     "output_type": "stream",
     "text": [
      "                              #  source_databases  \\\n",
      "8        PhosphoPOINT,Reactome,HPRD,Spike,Biogrid   \n",
      "9              HPRD,Reactome,PhosphoPOINT,Biogrid   \n",
      "24                            DIP,Reactome,IntAct   \n",
      "25                                  Reactome,HPRD   \n",
      "26      BIND,HPRD,CORUM,MIPS-MPPI,Reactome,IntAct   \n",
      "...                                           ...   \n",
      "554466                              Manual upload   \n",
      "554467                              Manual upload   \n",
      "554468                              Manual upload   \n",
      "554469                              Manual upload   \n",
      "554470                              Manual upload   \n",
      "\n",
      "                            interaction_publications  \\\n",
      "8                          1660465,16713569,12547834   \n",
      "9                   1660465,12709393,1672777,1309330   \n",
      "24      22210847,17486119,21408196,16906149,19897728   \n",
      "25                                          11591728   \n",
      "26                         10093054,9831708,23587463   \n",
      "...                                              ...   \n",
      "554466                              16099987,8868471   \n",
      "554467                              16099987,7716514   \n",
      "554468                              16099987,7615553   \n",
      "554469                             12820960,16099987   \n",
      "554470                             16099987,11433294   \n",
      "\n",
      "       interaction_participants__uniprot_entry  \\\n",
      "8                        ANPRA_HUMAN,ANF_HUMAN   \n",
      "9                       ANFC_HUMAN,ANPRB_HUMAN   \n",
      "24                     STIM1_HUMAN,TRPC1_HUMAN   \n",
      "25                      AT2B4_HUMAN,NOS1_HUMAN   \n",
      "26                     ABCC9_HUMAN,KCJ11_HUMAN   \n",
      "...                                        ...   \n",
      "554466                 PI42A_HUMAN,RHG01_HUMAN   \n",
      "554467                   FIBA_HUMAN,ITB1_HUMAN   \n",
      "554468                  CREB1_HUMAN,TF2B_HUMAN   \n",
      "554469                  MTOR_HUMAN,4EBP3_HUMAN   \n",
      "554470                   PAR1_HUMAN,DVL1_HUMAN   \n",
      "\n",
      "       interaction_participants__uniprot_id  \\\n",
      "8                             P16066,P01160   \n",
      "9                             P23582,P20594   \n",
      "24                            Q13586,P48995   \n",
      "25                            P23634,P29475   \n",
      "26                            O60706,Q14654   \n",
      "...                                     ...   \n",
      "554466                        P48426,Q07960   \n",
      "554467                        P02671,P05556   \n",
      "554468                        P16220,Q00403   \n",
      "554469                        P42345,O60516   \n",
      "554470                        P25116,O14640   \n",
      "\n",
      "       interaction_participants__genename interaction_participants__hgnc_id  \\\n",
      "8                               NPR1,NPPA               HGNC:7943,HGNC:7939   \n",
      "9                               NPPC,NPR2               HGNC:7941,HGNC:7944   \n",
      "24                            STIM1,TRPC1             HGNC:11386,HGNC:12333   \n",
      "25                            ATP2B4,NOS1                HGNC:817,HGNC:7872   \n",
      "26                           ABCC9,KCNJ11                 HGNC:60,HGNC:6257   \n",
      "...                                   ...                               ...   \n",
      "554466                    PIP4K2A,ARHGAP1                HGNC:8997,HGNC:673   \n",
      "554467                          FGA,ITGB1               HGNC:3661,HGNC:6153   \n",
      "554468                        CREB1,GTF2B               HGNC:2345,HGNC:4648   \n",
      "554469                      MTOR,EIF4EBP3               HGNC:3942,HGNC:3290   \n",
      "554470                           F2R,DVL1               HGNC:3537,HGNC:3084   \n",
      "\n",
      "       interaction_participants__entrez_gene  \\\n",
      "8                                  4881,4878   \n",
      "9                                  4880,4882   \n",
      "24                                 6786,7220   \n",
      "25                                  493,4842   \n",
      "26                                10060,3767   \n",
      "...                                      ...   \n",
      "554466                              5305,392   \n",
      "554467                             2243,3688   \n",
      "554468                             1385,2959   \n",
      "554469                             2475,8637   \n",
      "554470                             2149,1855   \n",
      "\n",
      "       interaction_participants__ensembl_gene  interaction_confidence  \n",
      "8             ENSG00000169418,ENSG00000175206                0.192576  \n",
      "9             ENSG00000163273,ENSG00000159899                0.230184  \n",
      "24            ENSG00000167323,ENSG00000144935                0.597177  \n",
      "25            ENSG00000058668,ENSG00000089250                0.520836  \n",
      "26            ENSG00000069431,ENSG00000187486                0.990732  \n",
      "...                                       ...                     ...  \n",
      "554466        ENSG00000150867,ENSG00000175220                0.358322  \n",
      "554467        ENSG00000171560,ENSG00000150093                0.994544  \n",
      "554468        ENSG00000118260,ENSG00000137947                0.998347  \n",
      "554469        ENSG00000198793,ENSG00000243056                0.801299  \n",
      "554470        ENSG00000181104,ENSG00000107404                0.941436  \n",
      "\n",
      "[521150 rows x 9 columns]\n"
     ]
    }
   ],
   "source": [
    "print(interactions_nona)"
   ]
  },
  {
   "cell_type": "markdown",
   "metadata": {},
   "source": [
    "### Remove \"complex\" interactions & low confidence\n",
    "* select interactions with exactly two partners\n",
    "* get the edgelist -ENSG_gene -genename list\n",
    "* select the confidence score>0.5"
   ]
  },
  {
   "cell_type": "code",
   "execution_count": 5,
   "metadata": {},
   "outputs": [],
   "source": [
    "binary_inter = interactions_nona[interactions_nona.interaction_participants__ensembl_gene.str.count(',') == 1]\n",
    "edgelist_genename = pd.concat([binary_inter.interaction_participants__genename.str.split(',', expand=True),\n",
    "                                binary_inter.interaction_confidence], axis=1\n",
    "                              )\n",
    "edgelist_ens = pd.concat([binary_inter.interaction_participants__ensembl_gene.str.split(',', expand=True),\n",
    "                                binary_inter.interaction_confidence], axis=1\n",
    "                              )\n",
    "edgelist_genename.set_index([np.arange(edgelist_genename.shape[0])], inplace=True)\n",
    "edgelist_genename.columns = ['partner1', 'partner2', 'confidence']\n",
    "high_conf_edgelist_genename = edgelist_genename[edgelist_genename.confidence > .5]\n",
    "#high_conf_edgelist_genename.set_index([np.arange(high_conf_edgelist_genename.shape[0])],inplace = True)\n",
    "edgelist_ens.set_index([np.arange(edgelist_ens.shape[0])], inplace=True)\n",
    "edgelist_ens.columns = ['partner1', 'partner2', 'confidence']\n",
    "high_conf_edgelist_ens = edgelist_ens[edgelist_ens.confidence > .5]\n"
   ]
  },
  {
   "cell_type": "code",
   "execution_count": 6,
   "metadata": {},
   "outputs": [],
   "source": [
    "high_conf_edgelist_ens.set_index([np.arange(high_conf_edgelist_ens.shape[0])],inplace=True)\n",
    "high_conf_edgelist_genename.set_index([np.arange(high_conf_edgelist_genename.shape[0])],inplace = True)"
   ]
  },
  {
   "cell_type": "code",
   "execution_count": 7,
   "metadata": {},
   "outputs": [
    {
     "data": {
      "text/html": [
       "<div>\n",
       "<style scoped>\n",
       "    .dataframe tbody tr th:only-of-type {\n",
       "        vertical-align: middle;\n",
       "    }\n",
       "\n",
       "    .dataframe tbody tr th {\n",
       "        vertical-align: top;\n",
       "    }\n",
       "\n",
       "    .dataframe thead th {\n",
       "        text-align: right;\n",
       "    }\n",
       "</style>\n",
       "<table border=\"1\" class=\"dataframe\">\n",
       "  <thead>\n",
       "    <tr style=\"text-align: right;\">\n",
       "      <th></th>\n",
       "      <th>partner1</th>\n",
       "      <th>partner2</th>\n",
       "      <th>confidence</th>\n",
       "    </tr>\n",
       "  </thead>\n",
       "  <tbody>\n",
       "    <tr>\n",
       "      <th>0</th>\n",
       "      <td>ENSG00000167323</td>\n",
       "      <td>ENSG00000144935</td>\n",
       "      <td>0.597177</td>\n",
       "    </tr>\n",
       "    <tr>\n",
       "      <th>1</th>\n",
       "      <td>ENSG00000058668</td>\n",
       "      <td>ENSG00000089250</td>\n",
       "      <td>0.520836</td>\n",
       "    </tr>\n",
       "    <tr>\n",
       "      <th>2</th>\n",
       "      <td>ENSG00000069431</td>\n",
       "      <td>ENSG00000187486</td>\n",
       "      <td>0.990732</td>\n",
       "    </tr>\n",
       "    <tr>\n",
       "      <th>3</th>\n",
       "      <td>ENSG00000138029</td>\n",
       "      <td>ENSG00000084754</td>\n",
       "      <td>0.999980</td>\n",
       "    </tr>\n",
       "    <tr>\n",
       "      <th>4</th>\n",
       "      <td>ENSG00000153767</td>\n",
       "      <td>ENSG00000197265</td>\n",
       "      <td>0.973170</td>\n",
       "    </tr>\n",
       "  </tbody>\n",
       "</table>\n",
       "</div>"
      ],
      "text/plain": [
       "          partner1         partner2  confidence\n",
       "0  ENSG00000167323  ENSG00000144935    0.597177\n",
       "1  ENSG00000058668  ENSG00000089250    0.520836\n",
       "2  ENSG00000069431  ENSG00000187486    0.990732\n",
       "3  ENSG00000138029  ENSG00000084754    0.999980\n",
       "4  ENSG00000153767  ENSG00000197265    0.973170"
      ]
     },
     "execution_count": 7,
     "metadata": {},
     "output_type": "execute_result"
    }
   ],
   "source": [
    "high_conf_edgelist_genename.to_csv('../data/ppi/CPDB_genename_edgelist_0.5.tsv', sep='\\t',index = None)\n",
    "high_conf_edgelist_ens.to_csv('../data/ppi/CPDB_ens_edgelist_0.5.tsv', sep='\\t',index = None)\n",
    "high_conf_edgelist_genename.head()\n",
    "high_conf_edgelist_ens.head()"
   ]
  },
  {
   "cell_type": "code",
   "execution_count": 15,
   "metadata": {},
   "outputs": [
    {
     "data": {
      "text/html": [
       "<div>\n",
       "<style scoped>\n",
       "    .dataframe tbody tr th:only-of-type {\n",
       "        vertical-align: middle;\n",
       "    }\n",
       "\n",
       "    .dataframe tbody tr th {\n",
       "        vertical-align: top;\n",
       "    }\n",
       "\n",
       "    .dataframe thead th {\n",
       "        text-align: right;\n",
       "    }\n",
       "</style>\n",
       "<table border=\"1\" class=\"dataframe\">\n",
       "  <thead>\n",
       "    <tr style=\"text-align: right;\">\n",
       "      <th></th>\n",
       "      <th>partner1</th>\n",
       "      <th>partner2</th>\n",
       "      <th>confidence</th>\n",
       "    </tr>\n",
       "  </thead>\n",
       "  <tbody>\n",
       "    <tr>\n",
       "      <th>0</th>\n",
       "      <td>ABCC9</td>\n",
       "      <td>KCNJ11</td>\n",
       "      <td>0.990732</td>\n",
       "    </tr>\n",
       "    <tr>\n",
       "      <th>1</th>\n",
       "      <td>HADHB</td>\n",
       "      <td>HADHA</td>\n",
       "      <td>0.999980</td>\n",
       "    </tr>\n",
       "    <tr>\n",
       "      <th>2</th>\n",
       "      <td>GTF2E1</td>\n",
       "      <td>GTF2E2</td>\n",
       "      <td>0.973170</td>\n",
       "    </tr>\n",
       "    <tr>\n",
       "      <th>3</th>\n",
       "      <td>GTF2A1</td>\n",
       "      <td>GTF2A2</td>\n",
       "      <td>0.999400</td>\n",
       "    </tr>\n",
       "    <tr>\n",
       "      <th>4</th>\n",
       "      <td>PARD6A</td>\n",
       "      <td>DVL2</td>\n",
       "      <td>0.995887</td>\n",
       "    </tr>\n",
       "  </tbody>\n",
       "</table>\n",
       "</div>"
      ],
      "text/plain": [
       "  partner1 partner2  confidence\n",
       "0    ABCC9   KCNJ11    0.990732\n",
       "1    HADHB    HADHA    0.999980\n",
       "2   GTF2E1   GTF2E2    0.973170\n",
       "3   GTF2A1   GTF2A2    0.999400\n",
       "4   PARD6A     DVL2    0.995887"
      ]
     },
     "execution_count": 15,
     "metadata": {},
     "output_type": "execute_result"
    }
   ],
   "source": [
    "high_conf_edgelist_genename.head()"
   ]
  },
  {
   "cell_type": "markdown",
   "metadata": {},
   "source": [
    "## 后面的先不用看"
   ]
  },
  {
   "cell_type": "markdown",
   "metadata": {},
   "source": [
    "### Map from Ensembl IDs to Hugo Symbols\n",
    "Additionally to the edgelists for Uniprot and Ensembl IDs, I also want an edgelist containing the gene names (regular Hugo Symbols).\n",
    "\n",
    "**I derive it here using the *mygene* webservice**"
   ]
  },
  {
   "cell_type": "code",
   "execution_count": 9,
   "metadata": {},
   "outputs": [
    {
     "name": "stdout",
     "output_type": "stream",
     "text": [
      "querying 1-1000...done.\n",
      "querying 1001-2000...done.\n",
      "querying 2001-3000...done.\n",
      "querying 3001-4000...done.\n",
      "querying 4001-5000...done.\n",
      "querying 5001-6000...done.\n",
      "querying 6001-7000...done.\n",
      "querying 7001-8000...done.\n",
      "querying 8001-9000...done.\n",
      "querying 9001-10000...done.\n",
      "querying 10001-11000...done.\n",
      "querying 11001-12000...done.\n",
      "querying 12001-13000...done.\n",
      "querying 13001-14000...done.\n",
      "querying 14001-14956...done.\n",
      "Finished.\n",
      "2 input query terms found no hit:\n",
      "\t['ENSG00000243444', 'ENSG00000189144']\n",
      "We were unable to map 0 source and 0 target genes.\n",
      "We lost 0 interactions this way.\n",
      "Final edge list has 305186 interactions\n",
      "Dropping 52719 interactions because the are redundant for gene names\n"
     ]
    },
    {
     "data": {
      "text/html": [
       "<div>\n",
       "<style scoped>\n",
       "    .dataframe tbody tr th:only-of-type {\n",
       "        vertical-align: middle;\n",
       "    }\n",
       "\n",
       "    .dataframe tbody tr th {\n",
       "        vertical-align: top;\n",
       "    }\n",
       "\n",
       "    .dataframe thead th {\n",
       "        text-align: right;\n",
       "    }\n",
       "</style>\n",
       "<table border=\"1\" class=\"dataframe\">\n",
       "  <thead>\n",
       "    <tr style=\"text-align: right;\">\n",
       "      <th></th>\n",
       "      <th>partner1</th>\n",
       "      <th>partner2</th>\n",
       "      <th>confidence</th>\n",
       "    </tr>\n",
       "  </thead>\n",
       "  <tbody>\n",
       "    <tr>\n",
       "      <th>2</th>\n",
       "      <td>STIM1</td>\n",
       "      <td>TRPC1</td>\n",
       "      <td>0.998166</td>\n",
       "    </tr>\n",
       "    <tr>\n",
       "      <th>3</th>\n",
       "      <td>NOS1</td>\n",
       "      <td>ATP2B4</td>\n",
       "      <td>0.694108</td>\n",
       "    </tr>\n",
       "    <tr>\n",
       "      <th>4</th>\n",
       "      <td>ABCC9</td>\n",
       "      <td>KCNJ11</td>\n",
       "      <td>0.999997</td>\n",
       "    </tr>\n",
       "    <tr>\n",
       "      <th>5</th>\n",
       "      <td>HADHA</td>\n",
       "      <td>HADHB</td>\n",
       "      <td>1.000000</td>\n",
       "    </tr>\n",
       "    <tr>\n",
       "      <th>6</th>\n",
       "      <td>GTF2E2</td>\n",
       "      <td>GTF2E1</td>\n",
       "      <td>0.999969</td>\n",
       "    </tr>\n",
       "  </tbody>\n",
       "</table>\n",
       "</div>"
      ],
      "text/plain": [
       "  partner1 partner2  confidence\n",
       "2    STIM1    TRPC1    0.998166\n",
       "3     NOS1   ATP2B4    0.694108\n",
       "4    ABCC9   KCNJ11    0.999997\n",
       "5    HADHA    HADHB    1.000000\n",
       "6   GTF2E2   GTF2E1    0.999969"
      ]
     },
     "execution_count": 9,
     "metadata": {},
     "output_type": "execute_result"
    }
   ],
   "source": [
    "ens_names = final_edgelist.partner1.append(final_edgelist.partner2).unique()\n",
    "ens_to_symbol = get_gene_symbols(ens_names)\n",
    "\n",
    "p1_incl = final_edgelist.join(ens_to_symbol, on='partner1', how='inner', rsuffix='_p1')\n",
    "both_incl = p1_incl.join(ens_to_symbol, on='partner2', how='inner', rsuffix='_p2')\n",
    "both_incl.columns = ['partner1', 'partner2', 'confidence', 'partner1_symbol', 'partner2_symbol']\n",
    "\n",
    "# collect statistics on how many interactions we lost\n",
    "num_unmaps = both_incl[both_incl.partner1_symbol.isnull() | both_incl.partner2_symbol.isnull()].shape[0]\n",
    "num_p1_unmaps = p1_incl[p1_incl.Symbol.isnull()].partner1.unique().shape[0]\n",
    "num_p2_unmaps = both_incl[both_incl.partner2_symbol.isnull()].partner2.unique().shape[0]\n",
    "print (\"We were unable to map {} source and {} target genes.\".format(num_p1_unmaps, num_p2_unmaps))\n",
    "print (\"We lost {} interactions this way.\".format(num_unmaps))\n",
    "\n",
    "# kick out the NaNs and remove ensembl IDs\n",
    "final_edgelist_symbols = both_incl.dropna(axis=0)\n",
    "final_edgelist_symbols.drop(['partner1', 'partner2'], axis=1, inplace=True)\n",
    "print (\"Final edge list has {} interactions\".format(final_edgelist_symbols.shape[0]))\n",
    "\n",
    "# sort by number and put confidence at last and rename columns\n",
    "final_edgelist_symbols.sort_index(inplace=True)\n",
    "cols = final_edgelist_symbols.columns.tolist()\n",
    "cols = cols[1:] + [cols[0]]\n",
    "final_edgelist_symbols = final_edgelist_symbols[cols]\n",
    "final_edgelist_symbols.columns = ['partner1', 'partner2', 'confidence']\n",
    "\n",
    "# remove duplicated interactions (can happen due to multiple Ensembl IDs mapping to the same gene name)\n",
    "no_interactions = final_edgelist_symbols.shape[0]\n",
    "final_edgelist_symbols.drop_duplicates(inplace=True)\n",
    "print (\"Dropping {} interactions because the are redundant for gene names\".format(no_interactions - final_edgelist_symbols.shape[0]))\n",
    "\n",
    "# write to file and look at the first rows\n",
    "final_edgelist_symbols.to_csv('../data/networks/CPDB_symbols_edgelist.tsv', sep='\\t')\n",
    "final_edgelist_symbols.head()"
   ]
  },
  {
   "cell_type": "markdown",
   "metadata": {},
   "source": [
    "### Construct Adjacency Matrix"
   ]
  },
  {
   "cell_type": "code",
   "execution_count": 10,
   "metadata": {},
   "outputs": [
    {
     "name": "stdout",
     "output_type": "stream",
     "text": [
      "Constructed Adjacency Matrix with average node degree of: 37.03022300469483\n",
      "Adjacency matrix has 252398 edges and 13632 nodes in total\n"
     ]
    }
   ],
   "source": [
    "G = nx.from_pandas_edgelist(df=final_edgelist_symbols, source='partner1', target='partner2', edge_attr='confidence')\n",
    "adj_pd = nx.to_pandas_adjacency(G)\n",
    "adjacency_matrix = adj_pd.values\n",
    "node_names = adj_pd.index.values\n",
    "\n",
    "avg_node_degree = np.mean([value for key, value in G.degree()])\n",
    "print (\"Constructed Adjacency Matrix with average node degree of: {}\".format(avg_node_degree))\n",
    "print (\"Adjacency matrix has {} edges and {} nodes in total\".format(G.number_of_edges(), G.number_of_nodes()))"
   ]
  },
  {
   "cell_type": "code",
   "execution_count": 11,
   "metadata": {},
   "outputs": [
    {
     "data": {
      "text/plain": [
       "Text(0.5, 1.0, 'Node Degree Distribution of Genes in PPI')"
      ]
     },
     "execution_count": 11,
     "metadata": {},
     "output_type": "execute_result"
    },
    {
     "data": {
      "image/png": "[encoded data removed]",
      "text/plain": [
       "<Figure size 1008x576 with 1 Axes>"
      ]
     },
     "metadata": {
      "needs_background": "light"
     },
     "output_type": "display_data"
    }
   ],
   "source": [
    "node_degrees = np.array([i[1] for i in list(G.degree())])\n",
    "fig = plt.figure(figsize=(14, 8))\n",
    "bins = np.linspace(1, 400, 400)\n",
    "sns.distplot(node_degrees, kde=False, bins=bins)\n",
    "\n",
    "#ax = plt.hist(node_degrees, bins)\n",
    "plt.xlabel('Node Degree')\n",
    "plt.ylabel('Number of genes with node degree')\n",
    "plt.title('Node Degree Distribution of Genes in PPI')"
   ]
  },
  {
   "cell_type": "markdown",
   "metadata": {},
   "source": [
    "### Store Adjacency matrix on Disk"
   ]
  },
  {
   "cell_type": "code",
   "execution_count": 12,
   "metadata": {},
   "outputs": [],
   "source": [
    "f = h5py.File('../data/networks/CPDB_ppi_ens.h5', 'w')\n",
    "f.create_dataset('consensusPathDB_ppi', data=adjacency_matrix, shape=adjacency_matrix.shape)\n",
    "string_dt = h5py.special_dtype(vlen=str)\n",
    "f.create_dataset('gene_names', data=node_names, dtype=string_dt)\n",
    "f.close()"
   ]
  }
 ],
 "metadata": {
  "kernelspec": {
   "display_name": "Python [conda env:wlx]",
   "language": "python",
   "name": "conda-env-wlx-py"
  },
  "language_info": {
   "codemirror_mode": {
    "name": "ipython",
    "version": 3
   },
   "file_extension": ".py",
   "mimetype": "text/x-python",
   "name": "python",
   "nbconvert_exporter": "python",
   "pygments_lexer": "ipython3",
   "version": "3.10.4"
  }
 },
 "nbformat": 4,
 "nbformat_minor": 2
}
